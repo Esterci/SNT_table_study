{
 "cells": [
  {
   "cell_type": "code",
   "execution_count": 1,
   "metadata": {},
   "outputs": [],
   "source": [
    "import pandas as pd"
   ]
  },
  {
   "cell_type": "code",
   "execution_count": 2,
   "metadata": {},
   "outputs": [],
   "source": [
    "arquivo = \"bases_de_dados/Base de Dados_Doação e Transplantes_2015-2023.xlsx\""
   ]
  },
  {
   "cell_type": "code",
   "execution_count": 9,
   "metadata": {},
   "outputs": [],
   "source": [
    "# Reading spread-sheet\n",
    "\n",
    "header_row = 4\n",
    "\n",
    "df_inscricao = pd.read_excel(\n",
    "    arquivo,\n",
    "    sheet_name=0,\n",
    "    header=header_row,\n",
    ")\n",
    "\n",
    "# Seleciona pacientes de rim \n",
    "df_inscricao = df_inscricao[df_inscricao.Enxerto == \"RI\"]\n",
    "n_amostras = len(df_inscricao)\n",
    "\n",
    "df_inscricao.info()"
   ]
  },
  {
   "cell_type": "code",
   "execution_count": null,
   "metadata": {},
   "outputs": [
    {
     "name": "stdout",
     "output_type": "stream",
     "text": [
      "<class 'pandas.core.frame.DataFrame'>\n",
      "RangeIndex: 20225 entries, 0 to 20224\n",
      "Data columns (total 15 columns):\n",
      " #   Column                  Non-Null Count  Dtype         \n",
      "---  ------                  --------------  -----         \n",
      " 0   UF                      20225 non-null  object        \n",
      " 1   Região                  20225 non-null  object        \n",
      " 2   ID                      20225 non-null  object        \n",
      " 3   Data de Nascimento      20225 non-null  int64         \n",
      " 4   Sexo                    20225 non-null  object        \n",
      " 5   Grupo Sanguíneo         19747 non-null  object        \n",
      " 6   Cor                     20225 non-null  object        \n",
      " 7   Ano                     20225 non-null  int64         \n",
      " 8   Mês                     20225 non-null  object        \n",
      " 9   Data do Óbito           20225 non-null  datetime64[ns]\n",
      " 10  Enxerto                 20225 non-null  object        \n",
      " 11  Equipe                  20225 non-null  object        \n",
      " 12   Estabelecimento        20225 non-null  object        \n",
      " 13  Cidade Estabelecimento  20225 non-null  object        \n",
      " 14  Evento                  20225 non-null  object        \n",
      "dtypes: datetime64[ns](1), int64(2), object(12)\n",
      "memory usage: 2.3+ MB\n"
     ]
    }
   ],
   "source": [
    "# Reading spread-sheet\n",
    "\n",
    "header_row = 5\n",
    "\n",
    "df_obitos = pd.read_excel(\n",
    "    arquivo,\n",
    "    sheet_name=4,\n",
    "    header=header_row,\n",
    ")\n",
    "\n",
    "# Seleciona pacientes de rim \n",
    "df_obitos = df_obitos[df_obitos.Enxerto == \"RI\"]\n",
    "df_obitos.info()"
   ]
  },
  {
   "cell_type": "code",
   "execution_count": 8,
   "metadata": {},
   "outputs": [
    {
     "name": "stdout",
     "output_type": "stream",
     "text": [
      "<class 'pandas.core.frame.DataFrame'>\n",
      "Index: 105620 entries, 124877PB to 313294SP\n",
      "Data columns (total 28 columns):\n",
      " #   Column                       Non-Null Count   Dtype         \n",
      "---  ------                       --------------   -----         \n",
      " 0   UF_insc                      105620 non-null  object        \n",
      " 1   Região_insc                  105620 non-null  object        \n",
      " 2   Ano_insc                     105620 non-null  int64         \n",
      " 3   Mês_insc                     105620 non-null  object        \n",
      " 4   Data da Inscrição            105620 non-null  datetime64[ns]\n",
      " 5   Enxerto_insc                 105620 non-null  object        \n",
      " 6   Data de Nascimento_insc      105620 non-null  datetime64[ns]\n",
      " 7   Sexo_insc                    105620 non-null  object        \n",
      " 8   Grupo Sanguíneo_insc         105620 non-null  object        \n",
      " 9   Cor_insc                     105620 non-null  object        \n",
      " 10  UF origem                    105620 non-null  object        \n",
      " 11  Equipe_insc                  105620 non-null  object        \n",
      " 12   Estabelecimento_insc        105620 non-null  object        \n",
      " 13  Cidade Estabelecimento_insc  105620 non-null  object        \n",
      " 14  UF                           9268 non-null    object        \n",
      " 15  Região                       9268 non-null    object        \n",
      " 16  Data de Nascimento           9268 non-null    float64       \n",
      " 17  Sexo                         9268 non-null    object        \n",
      " 18  Grupo Sanguíneo              9268 non-null    object        \n",
      " 19  Cor                          9268 non-null    object        \n",
      " 20  Ano                          9268 non-null    float64       \n",
      " 21  Mês                          9268 non-null    object        \n",
      " 22  Data do Óbito                9268 non-null    datetime64[ns]\n",
      " 23  Enxerto                      9268 non-null    object        \n",
      " 24  Equipe                       9268 non-null    object        \n",
      " 25   Estabelecimento             9268 non-null    object        \n",
      " 26  Cidade Estabelecimento       9268 non-null    object        \n",
      " 27  Evento                       9268 non-null    object        \n",
      "dtypes: datetime64[ns](3), float64(2), int64(1), object(22)\n",
      "memory usage: 23.4+ MB\n"
     ]
    }
   ],
   "source": [
    "df_result_obt = df_inscricao.set_index(\"ID\").join(\n",
    "    df_obitos.set_index(\"ID\"), on=[\"ID\"], lsuffix=\"_insc\", rsuffix=\"_obt\"\n",
    ")\n",
    "df_result_obt.info()"
   ]
  },
  {
   "cell_type": "code",
   "execution_count": null,
   "metadata": {},
   "outputs": [],
   "source": [
    "df_result_obt = df_result_obt.dropna(subset=[\"Data do Óbito\"])\n",
    "df_result_obt.info()"
   ]
  }
 ],
 "metadata": {
  "kernelspec": {
   "display_name": "base",
   "language": "python",
   "name": "python3"
  },
  "language_info": {
   "codemirror_mode": {
    "name": "ipython",
    "version": 3
   },
   "file_extension": ".py",
   "mimetype": "text/x-python",
   "name": "python",
   "nbconvert_exporter": "python",
   "pygments_lexer": "ipython3",
   "version": "3.10.9"
  },
  "orig_nbformat": 4
 },
 "nbformat": 4,
 "nbformat_minor": 2
}
