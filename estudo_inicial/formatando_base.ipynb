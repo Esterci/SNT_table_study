{
 "cells": [
  {
   "cell_type": "code",
   "execution_count": 21,
   "metadata": {},
   "outputs": [],
   "source": [
    "import pandas as pd"
   ]
  },
  {
   "cell_type": "code",
   "execution_count": 22,
   "metadata": {},
   "outputs": [],
   "source": [
    "arquivo = \"bases_de_dados/Base de Dados_Doação e Transplantes_2015-2023.xlsx\""
   ]
  },
  {
   "cell_type": "code",
   "execution_count": 23,
   "metadata": {},
   "outputs": [
    {
     "name": "stdout",
     "output_type": "stream",
     "text": [
      "<class 'pandas.core.frame.DataFrame'>\n",
      "Int64Index: 105620 entries, 2 to 325666\n",
      "Data columns (total 15 columns):\n",
      " #   Column                  Non-Null Count   Dtype         \n",
      "---  ------                  --------------   -----         \n",
      " 0   UF                      105620 non-null  object        \n",
      " 1   Região                  105620 non-null  object        \n",
      " 2   ID                      105620 non-null  object        \n",
      " 3   Ano                     105620 non-null  int64         \n",
      " 4   Mês                     105620 non-null  object        \n",
      " 5   Data da Inscrição       105620 non-null  datetime64[ns]\n",
      " 6   Enxerto                 105620 non-null  object        \n",
      " 7   Data de Nascimento      105620 non-null  datetime64[ns]\n",
      " 8   Sexo                    105620 non-null  object        \n",
      " 9   Grupo Sanguíneo         105620 non-null  object        \n",
      " 10  Cor                     105620 non-null  object        \n",
      " 11  UF origem               105620 non-null  object        \n",
      " 12  Equipe                  105620 non-null  object        \n",
      " 13   Estabelecimento        105620 non-null  object        \n",
      " 14  Cidade Estabelecimento  105620 non-null  object        \n",
      "dtypes: datetime64[ns](2), int64(1), object(12)\n",
      "memory usage: 12.9+ MB\n"
     ]
    }
   ],
   "source": [
    "# Reading spread-sheet\n",
    "\n",
    "header_row = 4\n",
    "\n",
    "df_inscricao = pd.read_excel(\n",
    "    arquivo,\n",
    "    sheet_name=0,\n",
    "    header=header_row,\n",
    ")\n",
    "\n",
    "# Seleciona pacientes de rim\n",
    "df_inscricao = df_inscricao[df_inscricao.Enxerto == \"RI\"]\n",
    "n_amostras = len(df_inscricao)\n",
    "\n",
    "df_inscricao.info()"
   ]
  },
  {
   "cell_type": "code",
   "execution_count": 24,
   "metadata": {},
   "outputs": [
    {
     "name": "stdout",
     "output_type": "stream",
     "text": [
      "<class 'pandas.core.frame.DataFrame'>\n",
      "Int64Index: 12421 entries, 0 to 20223\n",
      "Data columns (total 15 columns):\n",
      " #   Column                  Non-Null Count  Dtype         \n",
      "---  ------                  --------------  -----         \n",
      " 0   UF                      12421 non-null  object        \n",
      " 1   Região                  12421 non-null  object        \n",
      " 2   ID                      12421 non-null  object        \n",
      " 3   Data de Nascimento      12421 non-null  int64         \n",
      " 4   Sexo                    12421 non-null  object        \n",
      " 5   Grupo Sanguíneo         12421 non-null  object        \n",
      " 6   Cor                     12421 non-null  object        \n",
      " 7   Ano                     12421 non-null  int64         \n",
      " 8   Mês                     12421 non-null  object        \n",
      " 9   Data do Óbito           12421 non-null  datetime64[ns]\n",
      " 10  Enxerto                 12421 non-null  object        \n",
      " 11  Equipe                  12421 non-null  object        \n",
      " 12   Estabelecimento        12421 non-null  object        \n",
      " 13  Cidade Estabelecimento  12421 non-null  object        \n",
      " 14  Evento                  12421 non-null  object        \n",
      "dtypes: datetime64[ns](1), int64(2), object(12)\n",
      "memory usage: 1.5+ MB\n"
     ]
    }
   ],
   "source": [
    "# Reading spread-sheet\n",
    "\n",
    "header_row = 5\n",
    "\n",
    "df_obitos = pd.read_excel(\n",
    "    arquivo,\n",
    "    sheet_name=4,\n",
    "    header=header_row,\n",
    ")\n",
    "\n",
    "# Seleciona pacientes de rim\n",
    "df_obitos = df_obitos[df_obitos.Enxerto == \"RI\"]\n",
    "df_obitos.info()"
   ]
  },
  {
   "cell_type": "code",
   "execution_count": 25,
   "metadata": {},
   "outputs": [
    {
     "name": "stdout",
     "output_type": "stream",
     "text": [
      "<class 'pandas.core.frame.DataFrame'>\n",
      "Int64Index: 46465 entries, 2 to 185770\n",
      "Data columns (total 17 columns):\n",
      " #   Column                  Non-Null Count  Dtype         \n",
      "---  ------                  --------------  -----         \n",
      " 0    Ano do Transplante     46465 non-null  int64         \n",
      " 1    Mês do Transplante     46465 non-null  object        \n",
      " 2   Enxerto                 46465 non-null  object        \n",
      " 3   UF                      46465 non-null  object        \n",
      " 4   Região                  46465 non-null  object        \n",
      " 5   Data da Inscrição       46465 non-null  datetime64[ns]\n",
      " 6   Data do Transplante     46465 non-null  datetime64[ns]\n",
      " 7   Tipo de Doador          46465 non-null  object        \n",
      " 8   UF de Origem            46465 non-null  object        \n",
      " 9   ID                      46465 non-null  object        \n",
      " 10  Data de Nascimento      46465 non-null  datetime64[ns]\n",
      " 11  Sexo                    46465 non-null  object        \n",
      " 12  Grupo Sanguíneo         46465 non-null  object        \n",
      " 13  Cor                     46465 non-null  object        \n",
      " 14  Equipe                  46465 non-null  object        \n",
      " 15  Estabelecimento         46465 non-null  object        \n",
      " 16  Cidade Estabelecimento  46465 non-null  object        \n",
      "dtypes: datetime64[ns](3), int64(1), object(13)\n",
      "memory usage: 6.4+ MB\n"
     ]
    }
   ],
   "source": [
    "header_row = 4\n",
    "\n",
    "df_tranplantes = pd.read_excel(\n",
    "    arquivo,\n",
    "    sheet_name=2,\n",
    "    header=header_row,\n",
    ")\n",
    "\n",
    "# Seleciona pacientes de rim\n",
    "df_tranplantes = df_tranplantes[df_tranplantes.Enxerto == \"RI\"]\n",
    "df_tranplantes.info()"
   ]
  },
  {
   "cell_type": "code",
   "execution_count": 26,
   "metadata": {},
   "outputs": [
    {
     "name": "stdout",
     "output_type": "stream",
     "text": [
      "<class 'pandas.core.frame.DataFrame'>\n",
      "Index: 105620 entries, 124877PB to 313294SP\n",
      "Data columns (total 28 columns):\n",
      " #   Column                       Non-Null Count   Dtype         \n",
      "---  ------                       --------------   -----         \n",
      " 0   UF_insc                      105620 non-null  object        \n",
      " 1   Região_insc                  105620 non-null  object        \n",
      " 2   Ano_insc                     105620 non-null  int64         \n",
      " 3   Mês_insc                     105620 non-null  object        \n",
      " 4   Data da Inscrição            105620 non-null  datetime64[ns]\n",
      " 5   Enxerto_insc                 105620 non-null  object        \n",
      " 6   Data de Nascimento_insc      105620 non-null  datetime64[ns]\n",
      " 7   Sexo_insc                    105620 non-null  object        \n",
      " 8   Grupo Sanguíneo_insc         105620 non-null  object        \n",
      " 9   Cor_insc                     105620 non-null  object        \n",
      " 10  UF origem                    105620 non-null  object        \n",
      " 11  Equipe_insc                  105620 non-null  object        \n",
      " 12   Estabelecimento_insc        105620 non-null  object        \n",
      " 13  Cidade Estabelecimento_insc  105620 non-null  object        \n",
      " 14  UF_obt                       9268 non-null    object        \n",
      " 15  Região_obt                   9268 non-null    object        \n",
      " 16  Data de Nascimento_obt       9268 non-null    float64       \n",
      " 17  Sexo_obt                     9268 non-null    object        \n",
      " 18  Grupo Sanguíneo_obt          9268 non-null    object        \n",
      " 19  Cor_obt                      9268 non-null    object        \n",
      " 20  Ano_obt                      9268 non-null    float64       \n",
      " 21  Mês_obt                      9268 non-null    object        \n",
      " 22  Data do Óbito                9268 non-null    datetime64[ns]\n",
      " 23  Enxerto_obt                  9268 non-null    object        \n",
      " 24  Equipe_obt                   9268 non-null    object        \n",
      " 25   Estabelecimento_obt         9268 non-null    object        \n",
      " 26  Cidade Estabelecimento_obt   9268 non-null    object        \n",
      " 27  Evento                       9268 non-null    object        \n",
      "dtypes: datetime64[ns](3), float64(2), int64(1), object(22)\n",
      "memory usage: 23.4+ MB\n"
     ]
    }
   ],
   "source": [
    "join_insc_obt = df_inscricao.set_index(\"ID\").join(\n",
    "    df_obitos.set_index(\"ID\"), on=[\"ID\"], lsuffix=\"_insc\", rsuffix=\"_obt\"\n",
    ")\n",
    "join_insc_obt.info()"
   ]
  },
  {
   "cell_type": "code",
   "execution_count": 27,
   "metadata": {},
   "outputs": [
    {
     "name": "stdout",
     "output_type": "stream",
     "text": [
      "<class 'pandas.core.frame.DataFrame'>\n",
      "Index: 105620 entries, 124877PB to 313294SP\n",
      "Data columns (total 44 columns):\n",
      " #   Column                       Non-Null Count   Dtype         \n",
      "---  ------                       --------------   -----         \n",
      " 0   UF_insc                      105620 non-null  object        \n",
      " 1   Região_insc                  105620 non-null  object        \n",
      " 2   Ano_insc                     105620 non-null  int64         \n",
      " 3   Mês_insc                     105620 non-null  object        \n",
      " 4   Data da Inscrição            105620 non-null  datetime64[ns]\n",
      " 5   Enxerto_insc                 105620 non-null  object        \n",
      " 6   Data de Nascimento_insc      105620 non-null  datetime64[ns]\n",
      " 7   Sexo_insc                    105620 non-null  object        \n",
      " 8   Grupo Sanguíneo_insc         105620 non-null  object        \n",
      " 9   Cor_insc                     105620 non-null  object        \n",
      " 10  UF origem                    105620 non-null  object        \n",
      " 11  Equipe_insc                  105620 non-null  object        \n",
      " 12   Estabelecimento_insc        105620 non-null  object        \n",
      " 13  Cidade Estabelecimento_insc  105620 non-null  object        \n",
      " 14  UF_obt                       9268 non-null    object        \n",
      " 15  Região_obt                   9268 non-null    object        \n",
      " 16  Data de Nascimento_obt       9268 non-null    float64       \n",
      " 17  Sexo_obt                     9268 non-null    object        \n",
      " 18  Grupo Sanguíneo_obt          9268 non-null    object        \n",
      " 19  Cor_obt                      9268 non-null    object        \n",
      " 20  Ano_obt                      9268 non-null    float64       \n",
      " 21  Mês_obt                      9268 non-null    object        \n",
      " 22  Data do Óbito                9268 non-null    datetime64[ns]\n",
      " 23  Enxerto_obt                  9268 non-null    object        \n",
      " 24  Equipe_obt                   9268 non-null    object        \n",
      " 25   Estabelecimento_obt         9268 non-null    object        \n",
      " 26  Cidade Estabelecimento_obt   9268 non-null    object        \n",
      " 27  Evento                       9268 non-null    object        \n",
      " 28   Ano do Transplante          38332 non-null   float64       \n",
      " 29   Mês do Transplante          38332 non-null   object        \n",
      " 30  Enxerto                      38332 non-null   object        \n",
      " 31  UF                           38332 non-null   object        \n",
      " 32  Região                       38332 non-null   object        \n",
      " 33  Data da Inscrição_tx         38332 non-null   datetime64[ns]\n",
      " 34  Data do Transplante          38332 non-null   datetime64[ns]\n",
      " 35  Tipo de Doador               38332 non-null   object        \n",
      " 36  UF de Origem                 38332 non-null   object        \n",
      " 37  Data de Nascimento           38332 non-null   datetime64[ns]\n",
      " 38  Sexo                         38332 non-null   object        \n",
      " 39  Grupo Sanguíneo              38332 non-null   object        \n",
      " 40  Cor                          38332 non-null   object        \n",
      " 41  Equipe                       38332 non-null   object        \n",
      " 42  Estabelecimento              38332 non-null   object        \n",
      " 43  Cidade Estabelecimento       38332 non-null   object        \n",
      "dtypes: datetime64[ns](6), float64(3), int64(1), object(34)\n",
      "memory usage: 36.3+ MB\n"
     ]
    }
   ],
   "source": [
    "join_insc_obt_tx = join_insc_obt.join(\n",
    "    df_tranplantes.set_index(\"ID\"), on=[\"ID\"], lsuffix=\"\", rsuffix=\"_tx\"\n",
    ")\n",
    "join_insc_obt_tx.info()"
   ]
  },
  {
   "cell_type": "code",
   "execution_count": 28,
   "metadata": {},
   "outputs": [],
   "source": [
    "join_insc_obt_tx.to_csv(\"bases_de_dados/join_original.csv\")"
   ]
  },
  {
   "cell_type": "code",
   "execution_count": 29,
   "metadata": {},
   "outputs": [
    {
     "name": "stdout",
     "output_type": "stream",
     "text": [
      "<class 'pandas.core.frame.DataFrame'>\n",
      "Index: 105620 entries, 124877PB to 313294SP\n",
      "Data columns (total 11 columns):\n",
      " #   Column               Non-Null Count   Dtype         \n",
      "---  ------               --------------   -----         \n",
      " 0   uf                   105620 non-null  object        \n",
      " 1   regiao               105620 non-null  object        \n",
      " 2   data_da_inscricao    105620 non-null  datetime64[ns]\n",
      " 3   data_de_nascimento   105620 non-null  datetime64[ns]\n",
      " 4   sexo                 105620 non-null  object        \n",
      " 5   grupo_sanguineo      105620 non-null  object        \n",
      " 6   cor                  105620 non-null  object        \n",
      " 7   uf_origem            105620 non-null  object        \n",
      " 8   data_do_obito        9268 non-null    datetime64[ns]\n",
      " 9   data_do_transplante  38332 non-null   datetime64[ns]\n",
      " 10  tipo_de_doador       38332 non-null   object        \n",
      "dtypes: datetime64[ns](4), object(7)\n",
      "memory usage: 9.7+ MB\n"
     ]
    }
   ],
   "source": [
    "# retirando colunas duplicadas\n",
    "\n",
    "pertinent_df = join_insc_obt_tx[\n",
    "    [\n",
    "        \"UF_insc\",\n",
    "        \"Região_insc\",\n",
    "        \"Data da Inscrição\",\n",
    "        \"Data de Nascimento_insc\",\n",
    "        \"Sexo_insc\",\n",
    "        \"Grupo Sanguíneo_insc\",\n",
    "        \"Cor_insc\",\n",
    "        \"UF origem\",\n",
    "        \"Data do Óbito\",\n",
    "        \"Data do Transplante\",\n",
    "        \"Tipo de Doador\",\n",
    "    ]\n",
    "]\n",
    "\n",
    "# renomeando colunas\n",
    "\n",
    "pertinent_df = pertinent_df.rename(\n",
    "    columns={\n",
    "        \"UF_insc\": \"uf\",\n",
    "        \"Região_insc\": \"regiao\",\n",
    "        \"Data da Inscrição\": \"data_da_inscricao\",\n",
    "        \"Data de Nascimento_insc\": \"data_de_nascimento\",\n",
    "        \"Sexo_insc\": \"sexo\",\n",
    "        \"Grupo Sanguíneo_insc\": \"grupo_sanguineo\",\n",
    "        \"Cor_insc\": \"cor\",\n",
    "        \"UF origem\": \"uf_origem\",\n",
    "        \"Data do Óbito\": \"data_do_obito\",\n",
    "        \"Data do Transplante\": \"data_do_transplante\",\n",
    "        \"Tipo de Doador\": \"tipo_de_doador\",\n",
    "    }\n",
    ")\n",
    "\n",
    "pertinent_df.info()"
   ]
  },
  {
   "cell_type": "code",
   "execution_count": 30,
   "metadata": {},
   "outputs": [
    {
     "name": "stdout",
     "output_type": "stream",
     "text": [
      "<class 'pandas.core.frame.DataFrame'>\n",
      "Index: 47599 entries, 124877PB to 328786MG\n",
      "Data columns (total 11 columns):\n",
      " #   Column               Non-Null Count  Dtype         \n",
      "---  ------               --------------  -----         \n",
      " 0   uf                   47599 non-null  object        \n",
      " 1   regiao               47599 non-null  object        \n",
      " 2   data_da_inscricao    47599 non-null  datetime64[ns]\n",
      " 3   data_de_nascimento   47599 non-null  datetime64[ns]\n",
      " 4   sexo                 47599 non-null  object        \n",
      " 5   grupo_sanguineo      47599 non-null  object        \n",
      " 6   cor                  47599 non-null  object        \n",
      " 7   uf_origem            47599 non-null  object        \n",
      " 8   data_do_obito        9268 non-null   datetime64[ns]\n",
      " 9   data_do_transplante  38332 non-null  datetime64[ns]\n",
      " 10  tipo_de_doador       38332 non-null  object        \n",
      "dtypes: datetime64[ns](4), object(7)\n",
      "memory usage: 4.4+ MB\n"
     ]
    }
   ],
   "source": [
    "# retirando pacientes ainda em fila\n",
    "\n",
    "treated_df = pertinent_df.dropna(\n",
    "    subset=[\"data_do_obito\", \"data_do_transplante\"], how=\"all\"\n",
    ")\n",
    "\n",
    "treated_df.info()"
   ]
  },
  {
   "cell_type": "code",
   "execution_count": 31,
   "metadata": {},
   "outputs": [],
   "source": [
    "treated_df.to_csv(\"bases_de_dados/tabela_filtrada.csv\")"
   ]
  },
  {
   "cell_type": "code",
   "execution_count": 80,
   "metadata": {},
   "outputs": [
    {
     "name": "stdout",
     "output_type": "stream",
     "text": [
      "<class 'pandas.core.frame.DataFrame'>\n",
      "Index: 47599 entries, 124877PB to 328786MG\n",
      "Data columns (total 11 columns):\n",
      " #   Column               Non-Null Count  Dtype         \n",
      "---  ------               --------------  -----         \n",
      " 0   uf                   47599 non-null  object        \n",
      " 1   regiao               47599 non-null  object        \n",
      " 2   data_da_inscricao    47599 non-null  datetime64[ns]\n",
      " 3   data_de_nascimento   47599 non-null  datetime64[ns]\n",
      " 4   sexo                 47599 non-null  object        \n",
      " 5   grupo_sanguineo      47599 non-null  object        \n",
      " 6   cor                  47599 non-null  object        \n",
      " 7   uf_origem            47599 non-null  object        \n",
      " 8   data_do_obito        47599 non-null  object        \n",
      " 9   data_do_transplante  47599 non-null  object        \n",
      " 10  tipo_de_doador       47599 non-null  object        \n",
      "dtypes: datetime64[ns](2), object(9)\n",
      "memory usage: 5.4+ MB\n"
     ]
    }
   ],
   "source": [
    "# tratanto NaN\n",
    "treated_nan_df = treated_df.fillna(0)\n",
    "treated_nan_df.info()"
   ]
  },
  {
   "cell_type": "code",
   "execution_count": 81,
   "metadata": {},
   "outputs": [],
   "source": [
    "treated_nan_df.to_csv(\"bases_de_dados/tabela_tratada.csv\")"
   ]
  },
  {
   "cell_type": "code",
   "execution_count": 82,
   "metadata": {},
   "outputs": [
    {
     "name": "stdout",
     "output_type": "stream",
     "text": [
      "<class 'pandas.core.frame.DataFrame'>\n",
      "Index: 47598 entries, 124877PB to 328786MG\n",
      "Data columns (total 11 columns):\n",
      " #   Column               Non-Null Count  Dtype         \n",
      "---  ------               --------------  -----         \n",
      " 0   uf                   47598 non-null  object        \n",
      " 1   regiao               47598 non-null  object        \n",
      " 2   data_da_inscricao    47598 non-null  datetime64[ns]\n",
      " 3   data_de_nascimento   47598 non-null  datetime64[ns]\n",
      " 4   sexo                 47598 non-null  object        \n",
      " 5   grupo_sanguineo      47598 non-null  object        \n",
      " 6   cor                  47598 non-null  object        \n",
      " 7   uf_origem            47598 non-null  object        \n",
      " 8   data_do_obito        47598 non-null  object        \n",
      " 9   data_do_transplante  47598 non-null  object        \n",
      " 10  tipo_de_doador       47598 non-null  object        \n",
      "dtypes: datetime64[ns](2), object(9)\n",
      "memory usage: 4.4+ MB\n"
     ]
    }
   ],
   "source": [
    "# Retirando dados não confiável de\n",
    "# mortalidade pós transplante\n",
    "\n",
    "cor_treated_nan_df = treated_nan_df.drop(\n",
    "    index=(\n",
    "        treated_nan_df.loc[\n",
    "            (treated_nan_df[\"data_do_transplante\"] != 0)\n",
    "            & (treated_nan_df[\"data_do_obito\"] != 0)\n",
    "        ].index\n",
    "    )\n",
    ")\n",
    "\n",
    "cor_treated_nan_df.info()"
   ]
  },
  {
   "cell_type": "code",
   "execution_count": 83,
   "metadata": {},
   "outputs": [],
   "source": [
    "import numpy as np\n",
    "\n",
    "tmp_dict = {\n",
    "    \"idade\": [],\n",
    "}\n",
    "\n",
    "id = []\n",
    "\n",
    "for i in range(10):\n",
    "    id.append(10-i)\n",
    "    tmp_dict[\"idade\"].append(np.random.randint(0,1))\n"
   ]
  },
  {
   "cell_type": "code",
   "execution_count": 88,
   "metadata": {},
   "outputs": [],
   "source": [
    "import numpy as np\n",
    "\n",
    "# criando coluna única de tempo,\n",
    "# colunas binárias de tipo e tempo de segmento\n",
    "\n",
    "tmp_dict = {\n",
    "    \"id\":[],\n",
    "    \"idade\": [],\n",
    "    \"data_do_evento\": [],\n",
    "    \"obito_bin\": [],\n",
    "    \"transplante_bin\": [],\n",
    "    \"delta_t\": [],\n",
    "}\n",
    "\n",
    "\n",
    "\n",
    "for feature in cor_treated_nan_df:\n",
    "    tmp_dict[feature] = []\n",
    "\n",
    "ids = []\n",
    "\n",
    "for i in range(len(cor_treated_nan_df)):\n",
    "\n",
    "    patient = cor_treated_nan_df.iloc[i]\n",
    "\n",
    "    tmp_dict[\"id\"].append(cor_treated_nan_df.index[i])\n",
    "\n",
    "    for feature in patient.index:\n",
    "        \n",
    "        tmp_dict[feature].append(patient[feature])\n",
    "\n",
    "\n",
    "    # Calculando características dos transplantados\n",
    "        \n",
    "    if patient.tipo_de_doador != 0:\n",
    "\n",
    "        tmp_dict[\"idade\"].append((patient.data_do_transplante - patient.data_de_nascimento) / np.timedelta64(1, \"D\"))\n",
    "\n",
    "        tmp_dict[\"data_do_evento\"].append(patient.data_do_transplante)\n",
    "\n",
    "        tmp_dict[\"obito_bin\"].append(0)\n",
    "\n",
    "        tmp_dict[\"transplante_bin\"].append(1)\n",
    "        \n",
    "        tmp_dict[\"delta_t\"].append((patient.data_do_transplante - patient.data_da_inscricao) / np.timedelta64(1, \"D\"))\n",
    "\n",
    "    # Calculando características dos falecidos\n",
    "        \n",
    "    else:\n",
    "\n",
    "        tmp_dict[\"idade\"].append((patient.data_do_obito - patient.data_de_nascimento) / np.timedelta64(1, \"D\"))\n",
    "        \n",
    "        tmp_dict[\"data_do_evento\"].append(patient.data_do_obito)\n",
    "\n",
    "        tmp_dict[\"obito_bin\"].append(1)\n",
    "\n",
    "        tmp_dict[\"transplante_bin\"].append(0)\n",
    "        \n",
    "        tmp_dict[\"delta_t\"].append((patient.data_do_obito - patient.data_da_inscricao) / np.timedelta64(1, \"D\"))\n"
   ]
  },
  {
   "cell_type": "code",
   "execution_count": 93,
   "metadata": {},
   "outputs": [],
   "source": [
    "formated_df = pd.DataFrame(tmp_dict).set_index(\"id\")\n",
    "formated_df.to_csv(\n",
    "    \"bases_de_dados/base_de_dados_formatada_rim.csv\",\n",
    ")"
   ]
  },
  {
   "cell_type": "code",
   "execution_count": null,
   "metadata": {},
   "outputs": [
    {
     "data": {
      "image/png": "[encoded data removed]",
      "text/plain": [
       "<Figure size 1200x675 with 1 Axes>"
      ]
     },
     "metadata": {},
     "output_type": "display_data"
    }
   ],
   "source": [
    "import matplotlib.pyplot as plt\n",
    "import numpy as np\n",
    "\n",
    "k = 0.75\n",
    "\n",
    "fig = plt.figure(figsize=[k * 16, k * 9])\n",
    "\n",
    "# Example data\n",
    "people = (\n",
    "    \"Sairam da fila\",\n",
    "    \"Sem data de saida\",\n",
    "    \"Sem tipo de doador\",\n",
    "    \"Dados utilizados\",\n",
    "    \"Obito\",\n",
    "    \"Transplante\"\n",
    ")\n",
    "y_pos = np.arange(len(people))\n",
    "performance = [47599, (105620 - 47599), (47599-38331),38331,7633,30698]\n",
    "\n",
    "ax = fig.add_subplot(1, 1, 1)\n",
    "\n",
    "width = 0.75\n",
    "\n",
    "ax.barh(\n",
    "    y_pos,\n",
    "    performance,\n",
    "    width,\n",
    "    align=\"center\",\n",
    ")\n",
    "\n",
    "for i, v in enumerate(performance):\n",
    "    ax.text(v, i, str(v), fontsize=12)\n",
    "\n",
    "ax.set_yticks(y_pos, labels=people)\n",
    "ax.invert_yaxis()  # labels read top-to-bottom\n",
    "ax.set_xlabel(\"Número de pacientes\")\n",
    "ax.set_xlim(0, 65000)\n",
    "ax.grid()\n",
    "\n",
    "plt.show()"
   ]
  },
  {
   "cell_type": "code",
   "execution_count": null,
   "metadata": {},
   "outputs": [],
   "source": []
  }
 ],
 "metadata": {
  "kernelspec": {
   "display_name": "base",
   "language": "python",
   "name": "python3"
  },
  "language_info": {
   "codemirror_mode": {
    "name": "ipython",
    "version": 3
   },
   "file_extension": ".py",
   "mimetype": "text/x-python",
   "name": "python",
   "nbconvert_exporter": "python",
   "pygments_lexer": "ipython3",
   "version": "3.9.18"
  },
  "orig_nbformat": 4
 },
 "nbformat": 4,
 "nbformat_minor": 2
}
